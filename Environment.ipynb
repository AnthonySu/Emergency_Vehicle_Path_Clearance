{
 "cells": [
  {
   "cell_type": "code",
   "execution_count": 49,
   "metadata": {},
   "outputs": [],
   "source": [
    "import numpy as np"
   ]
  },
  {
   "cell_type": "code",
   "execution_count": 50,
   "metadata": {},
   "outputs": [],
   "source": [
    "# basic parameters:\n",
    "arrival_rate = 0.8\n",
    "background_speed = 12 # 25mph = 11.176 m/s\n",
    "segment_length = 1000\n",
    "vehicle_length = 4.5 # a typical vehicle length is 4.5 meters"
   ]
  },
  {
   "cell_type": "code",
   "execution_count": 51,
   "metadata": {},
   "outputs": [],
   "source": [
    "# Generate possion arrival for left land and right lane as the inter-arrival time is following exponential distribution\n",
    "beta = 1 / arrival_rate\n",
    "left_interarr_times = np.random.exponential(scale = beta, size = 1000)\n",
    "right_interarr_times = np.random.exponential(scale = beta, size = 1000)"
   ]
  },
  {
   "cell_type": "code",
   "execution_count": 52,
   "metadata": {},
   "outputs": [],
   "source": [
    "# So the inter-vehicle distances could be calculated as time * background_speed\n",
    "left_interarr_dists = left_interarr_times * background_speed\n",
    "right_interarr_dists = right_interarr_times * background_speed"
   ]
  },
  {
   "cell_type": "code",
   "execution_count": 53,
   "metadata": {},
   "outputs": [],
   "source": [
    "# The physical stamp is the distance between of the fronts of two vehicle\n",
    "# To make sure that there is at least a vehicle, we need to filter those distance < 1.1 * vehicle_length and replace with 1.1 * vehicle_length\n",
    "left_interarr_dists_modified = np.clip(left_interarr_dists, 1.1 * vehicle_length, np.inf)\n",
    "right_interarr_dists_modified = np.clip(right_interarr_dists, 1.1 * vehicle_length, np.inf)"
   ]
  },
  {
   "cell_type": "code",
   "execution_count": 54,
   "metadata": {},
   "outputs": [],
   "source": [
    "# Get the coordinates from the intersection of the front of each vehicles, which is the cumulative of distances between vehicles:\n",
    "left_vehicle_coordinates = np.cumsum(left_interarr_dists_modified, dtype = float)"
   ]
  },
  {
   "cell_type": "code",
   "execution_count": 55,
   "metadata": {},
   "outputs": [],
   "source": [
    "left_vehicle_coordinates = left_vehicle_coordinates[left_vehicle_coordinates < segment_length]"
   ]
  },
  {
   "cell_type": "code",
   "execution_count": 61,
   "metadata": {},
   "outputs": [
    {
     "data": {
      "text/plain": [
       "(69,)"
      ]
     },
     "execution_count": 61,
     "metadata": {},
     "output_type": "execute_result"
    }
   ],
   "source": [
    "left_vehicle_coordinates.shape"
   ]
  },
  {
   "cell_type": "code",
   "execution_count": 57,
   "metadata": {},
   "outputs": [],
   "source": [
    "right_vehicle_coordinates = np.cumsum(right_interarr_dists_modified, dtype = float)"
   ]
  },
  {
   "cell_type": "code",
   "execution_count": 58,
   "metadata": {},
   "outputs": [],
   "source": [
    "right_vehicle_coordinates = right_vehicle_coordinates[right_vehicle_coordinates < segment_length]"
   ]
  },
  {
   "cell_type": "code",
   "execution_count": 62,
   "metadata": {},
   "outputs": [
    {
     "data": {
      "text/plain": [
       "(79,)"
      ]
     },
     "execution_count": 62,
     "metadata": {},
     "output_type": "execute_result"
    }
   ],
   "source": [
    "right_vehicle_coordinates.shape"
   ]
  },
  {
   "cell_type": "code",
   "execution_count": null,
   "metadata": {},
   "outputs": [],
   "source": [
    "# The above environment generation gives us a fleet of 69 vehicles before the emergency vehicle, and there are 79 vehicles on the right lane"
   ]
  }
 ],
 "metadata": {
  "kernelspec": {
   "display_name": "Python 3",
   "language": "python",
   "name": "python3"
  },
  "language_info": {
   "codemirror_mode": {
    "name": "ipython",
    "version": 3
   },
   "file_extension": ".py",
   "mimetype": "text/x-python",
   "name": "python",
   "nbconvert_exporter": "python",
   "pygments_lexer": "ipython3",
   "version": "3.6.5"
  }
 },
 "nbformat": 4,
 "nbformat_minor": 2
}
