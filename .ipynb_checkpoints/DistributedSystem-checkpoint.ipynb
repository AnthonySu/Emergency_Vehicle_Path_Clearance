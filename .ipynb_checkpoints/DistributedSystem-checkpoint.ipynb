{
 "cells": [
  {
   "cell_type": "code",
   "execution_count": 33,
   "metadata": {},
   "outputs": [],
   "source": [
    "import numpy as np"
   ]
  },
  {
   "cell_type": "code",
   "execution_count": 46,
   "metadata": {},
   "outputs": [],
   "source": [
    "# basic parameters:\n",
    "arrival_rate = 0.8\n",
    "background_speed = 12 # 25mph = 11.176 m/s\n",
    "cruising_speed = 0.25 * background_speed\n",
    "segment_length = 1000\n",
    "vehicle_length = 4.5 # a typical vehicle length is 4.5 meters\n",
    "pull_over_dist = 3 # The artifical pull over distance is 3 m\n",
    "\n",
    "\n",
    "# Generate possion arrival for left land and right lane as the inter-arrival time is following exponential distribution\n",
    "beta = 1 / arrival_rate\n",
    "left_interarr_times = np.random.exponential(scale = beta, size = 1000)\n",
    "right_interarr_times = np.random.exponential(scale = beta, size = 1000)\n",
    "\n",
    "# So the inter-vehicle distances could be calculated as time * background_speed\n",
    "left_interarr_dists = left_interarr_times * background_speed\n",
    "right_interarr_dists = right_interarr_times * background_speed\n",
    "\n",
    "# The physical stamp is the distance between of the fronts of two vehicle\n",
    "# To make sure that there is at least a vehicle, we need to filter those distance < 1.1 * vehicle_length and replace with 1.1 * vehicle_length\n",
    "left_interarr_dists_modified = np.clip(left_interarr_dists, 1.1 * vehicle_length, np.inf)\n",
    "right_interarr_dists_modified = np.clip(right_interarr_dists, 1.1 * vehicle_length, np.inf)\n",
    "\n",
    "# Get the coordinates from the intersection of the front of each vehicles, which is the cumulative of distances between vehicles:\n",
    "left_vehicle_coordinates = np.cumsum(left_interarr_dists_modified, dtype = float)\n",
    "left_vehicle_coordinates = left_vehicle_coordinates[left_vehicle_coordinates < segment_length]\n",
    "right_vehicle_coordinates = np.cumsum(right_interarr_dists_modified, dtype = float)\n",
    "right_vehicle_coordinates = right_vehicle_coordinates[right_vehicle_coordinates < segment_length]"
   ]
  },
  {
   "cell_type": "code",
   "execution_count": 47,
   "metadata": {},
   "outputs": [],
   "source": [
    "# required length for pull over slot:\n",
    "required_length = 2 * vehicle_length"
   ]
  },
  {
   "cell_type": "code",
   "execution_count": 48,
   "metadata": {},
   "outputs": [
    {
     "data": {
      "text/plain": [
       "array([  4.95      ,   9.9       ,  14.85      ,  19.90371992,\n",
       "        49.3604563 ,  54.3104563 ,  60.53194386,  65.48194386,\n",
       "        98.28918518, 108.27445005, 113.22445005, 119.3097612 ,\n",
       "       124.2597612 , 145.82137631, 153.80304742, 158.75304742,\n",
       "       163.70304742, 174.26931731, 206.58200874, 218.44360285,\n",
       "       223.39360285, 263.51219086, 313.06590412, 318.01590412,\n",
       "       322.96590412, 339.68207931, 355.66139949, 370.69908296,\n",
       "       375.64908296, 402.43319125, 408.5427021 , 455.74666319,\n",
       "       487.89820886, 499.54649319, 509.37411117, 516.95678312,\n",
       "       523.12358225, 531.32348105, 537.24607781, 543.29892672,\n",
       "       559.49911718, 569.79570229, 577.26213045, 582.21213045,\n",
       "       609.0066817 , 619.96634353, 624.91634353, 629.86634353,\n",
       "       653.43914229, 663.69197345, 670.68149739, 680.18536976,\n",
       "       687.769955  , 701.42380782, 706.41559856, 718.30367806,\n",
       "       769.75192721, 776.89845249, 791.64497114, 806.31671152,\n",
       "       816.405277  , 826.02156003, 835.79578483, 865.17428355,\n",
       "       886.14529295, 893.31537957, 898.26537957, 919.26216297,\n",
       "       934.96871805, 939.91871805, 982.61180083, 987.56180083])"
      ]
     },
     "execution_count": 48,
     "metadata": {},
     "output_type": "execute_result"
    }
   ],
   "source": [
    "# Lets look again at the left vehicle coordinates of the vehicle on the left lane:\n",
    "left_vehicle_coordinates"
   ]
  },
  {
   "cell_type": "code",
   "execution_count": 49,
   "metadata": {},
   "outputs": [
    {
     "data": {
      "text/plain": [
       "(72,)"
      ]
     },
     "execution_count": 49,
     "metadata": {},
     "output_type": "execute_result"
    }
   ],
   "source": [
    "# And we can get the number of the vehicle in front of Emergency Vehicle of interest:\n",
    "left_vehicle_coordinates.shape"
   ]
  },
  {
   "cell_type": "code",
   "execution_count": 50,
   "metadata": {},
   "outputs": [
    {
     "data": {
      "text/plain": [
       "array([ 35.14605333,  40.48750638,  45.43750638, 105.87425231,\n",
       "       110.82425231, 125.91733624, 166.34494855, 171.29494855,\n",
       "       180.19651786, 185.14651786, 191.31685846, 215.80442166,\n",
       "       221.88137654, 233.59207577, 250.99085418, 255.94085418,\n",
       "       269.76344349, 297.39515842, 302.34515842, 307.29515842,\n",
       "       339.72310435, 348.27638143, 353.22638143, 359.18478908,\n",
       "       369.63901032, 383.9051427 , 468.41702065, 503.55549876,\n",
       "       531.91201914, 536.86201914, 576.44715782, 581.39715782,\n",
       "       586.34715782, 595.92744226, 600.87744226, 631.88700971,\n",
       "       637.94691486, 642.89691486, 696.70594943, 727.78461181,\n",
       "       732.73461181, 741.57090586, 747.80902477, 756.2442479 ,\n",
       "       766.36726804, 771.80912217, 776.75912217, 782.27967361,\n",
       "       792.98043778, 797.93043778, 809.77626467, 816.98029941,\n",
       "       845.57318964, 850.52318964, 855.47318964, 860.57607782,\n",
       "       865.52607782, 877.79896843, 882.74896843, 887.69896843,\n",
       "       892.88459217, 977.30191596])"
      ]
     },
     "execution_count": 50,
     "metadata": {},
     "output_type": "execute_result"
    }
   ],
   "source": [
    "# Lets look at the coordinates of the vehicles on the right lane:\n",
    "right_vehicle_coordinates"
   ]
  },
  {
   "cell_type": "code",
   "execution_count": 51,
   "metadata": {},
   "outputs": [
    {
     "data": {
      "text/plain": [
       "62"
      ]
     },
     "execution_count": 51,
     "metadata": {},
     "output_type": "execute_result"
    }
   ],
   "source": [
    "# The number of vehicles on the right lane is:\n",
    "len(right_vehicle_coordinates)"
   ]
  },
  {
   "cell_type": "code",
   "execution_count": 52,
   "metadata": {},
   "outputs": [],
   "source": [
    "# We then have to calculate the exact coordinates of those slots, starting from 0:\n",
    "empty_slots = []\n",
    "current_position = 0\n",
    "for i in range(len(right_vehicle_coordinates)):\n",
    "    head = current_position\n",
    "    tail = right_vehicle_coordinates[i]\n",
    "    empty_slots.append([head, tail])\n",
    "    current_position = tail + vehicle_length\n",
    "if (current_position - vehicle_length) < segment_length :\n",
    "    empty_slots.append([current_position - vehicle_length, segment_length])"
   ]
  },
  {
   "cell_type": "code",
   "execution_count": 53,
   "metadata": {},
   "outputs": [
    {
     "data": {
      "text/plain": [
       "63"
      ]
     },
     "execution_count": 53,
     "metadata": {},
     "output_type": "execute_result"
    }
   ],
   "source": [
    "# And we could know that there should be number_vehicle + 1 slots for possible pulling over:\n",
    "len(empty_slots)"
   ]
  },
  {
   "cell_type": "code",
   "execution_count": 54,
   "metadata": {},
   "outputs": [],
   "source": [
    "# Pull over rules for distributed systems:\n",
    "# 1. a vehicle could only pull over to a spot that is physically ahead of him, which means the head of this slot\n",
    "# should be smaller than the front of the vehicle;\n",
    "# 2. the empty slot should at least be 2*vehicle length long\n",
    "# 3. Since there is a pull over distance, the back of the vehicle - pull over distance should be smaller than \n",
    "# the tail of the slot\n",
    "def can_pull_over(vehicle_coordinate, slot):\n",
    "    head = slot[0]\n",
    "    tail = slot[1]\n",
    "    # The back of the vehicle should be vehicle coordinate + vehicle_length\n",
    "    vehicle_back = vehicle_coordinate + vehicle_length\n",
    "    if ((tail - head) < required_length) or (head > vehicle_coordinate) or (vehicle_back + vehicle_length - pull_over_dist > tail):\n",
    "        return False\n",
    "    return True "
   ]
  },
  {
   "cell_type": "code",
   "execution_count": 55,
   "metadata": {},
   "outputs": [
    {
     "data": {
      "text/plain": [
       "4.95"
      ]
     },
     "execution_count": 55,
     "metadata": {},
     "output_type": "execute_result"
    }
   ],
   "source": [
    "# Then we can see which slots a vehicle can pull over into, if there is no available slots, then it will exit from the intersection\n",
    "# For example, lets take a look at the first vehicle:\n",
    "first_veh_coordinate = left_vehicle_coordinates[0]\n",
    "first_veh_coordinate"
   ]
  },
  {
   "cell_type": "code",
   "execution_count": 56,
   "metadata": {},
   "outputs": [
    {
     "name": "stdout",
     "output_type": "stream",
     "text": [
      "[0, 35.14605332759829]\n"
     ]
    }
   ],
   "source": [
    "for slot_element in empty_slots:\n",
    "    result = can_pull_over(first_veh_coordinate, slot_element)\n",
    "    if result:\n",
    "        print(slot_element)\n",
    "    else:\n",
    "        break"
   ]
  },
  {
   "cell_type": "code",
   "execution_count": 59,
   "metadata": {},
   "outputs": [],
   "source": [
    "# A special rule regarding the distributed system is that all vehicles will try to pull over into their nearest\n",
    "# slot. However, with respect to time, we might not know which vehicle would pull in first.\n",
    "# So, we need to calculate that and pick the smallest one to be timestamp of interest. Through the process, vehicles\n",
    "# to be cleared and empty slots are changing per timestamp of interest"
   ]
  },
  {
   "cell_type": "code",
   "execution_count": 66,
   "metadata": {},
   "outputs": [],
   "source": [
    "# First of all, we need to know which slot each vehicle is going to pull over into:\n",
    "def slot_to_park_distributed(vehicle_coordinate, empty_slots):\n",
    "    if not empty_slots:\n",
    "        return 0;\n",
    "    \n",
    "    for slot_element in empty_slots:\n",
    "        a = can_pull_over(vehicle_coordinate, slot_element)\n",
    "        if a:\n",
    "            res = slot_element\n",
    "        else:\n",
    "            break;\n",
    "    return res"
   ]
  },
  {
   "cell_type": "code",
   "execution_count": 68,
   "metadata": {},
   "outputs": [
    {
     "name": "stdout",
     "output_type": "stream",
     "text": [
      "4.95 False\n",
      "9.9 False\n",
      "14.850000000000001 False\n",
      "19.903719917266876 False\n",
      "49.360456300157644 False\n",
      "54.31045630015765 False\n",
      "60.53194386413139 False\n",
      "65.4819438641314 False\n",
      "98.28918518328454 False\n",
      "108.27445004906419 False\n",
      "113.22445004906419 False\n",
      "119.30976119736331 False\n",
      "124.25976119736332 False\n",
      "145.82137631433528 False\n",
      "153.8030474201564 False\n",
      "158.75304742015638 False\n",
      "163.70304742015637 False\n",
      "174.26931730726986 False\n",
      "206.5820087423697 False\n",
      "218.44360285468457 False\n",
      "223.39360285468456 False\n",
      "263.5121908610402 False\n",
      "313.0659041160741 False\n",
      "318.01590411607407 False\n",
      "322.96590411607406 False\n",
      "339.6820793056889 False\n",
      "355.66139948611084 False\n",
      "370.69908296222786 False\n",
      "375.64908296222785 False\n",
      "402.4331912521115 False\n",
      "408.5427020954276 False\n",
      "455.7466631877665 False\n",
      "487.89820886284565 False\n",
      "499.5464931896608 False\n",
      "509.3741111654487 False\n",
      "516.9567831244372 False\n",
      "523.1235822484218 False\n",
      "531.3234810514786 False\n",
      "537.2460778100054 False\n",
      "543.298926723919 False\n",
      "559.4991171780703 False\n",
      "569.7957022857955 False\n",
      "577.2621304542295 False\n",
      "582.2121304542295 False\n",
      "609.0066816990814 False\n",
      "619.9663435283542 False\n",
      "624.9163435283542 False\n",
      "629.8663435283543 False\n",
      "653.4391422865211 False\n",
      "663.6919734464594 False\n",
      "670.6814973886684 False\n",
      "680.1853697615607 False\n",
      "687.7699549999302 False\n",
      "701.4238078237826 False\n",
      "706.4155985645145 False\n",
      "718.303678059548 False\n",
      "769.7519272053136 False\n",
      "776.8984524854984 False\n",
      "791.6449711426957 False\n",
      "806.3167115214651 False\n",
      "816.4052769975473 False\n",
      "826.0215600316228 False\n",
      "835.7957848321868 False\n",
      "865.1742835502591 False\n",
      "886.145292948001 False\n",
      "893.3153795687307 False\n",
      "898.2653795687307 False\n",
      "919.2621629715943 False\n",
      "934.9687180475344 False\n",
      "939.9187180475344 False\n",
      "982.6118008260628 False\n",
      "987.5618008260628 False\n"
     ]
    }
   ],
   "source": [
    "for vehicle_coordinate in left_vehicle_coordinates:\n",
    "    print(vehicle_coordinate, result)"
   ]
  },
  {
   "cell_type": "code",
   "execution_count": null,
   "metadata": {},
   "outputs": [],
   "source": []
  }
 ],
 "metadata": {
  "kernelspec": {
   "display_name": "Python 3",
   "language": "python",
   "name": "python3"
  },
  "language_info": {
   "codemirror_mode": {
    "name": "ipython",
    "version": 3
   },
   "file_extension": ".py",
   "mimetype": "text/x-python",
   "name": "python",
   "nbconvert_exporter": "python",
   "pygments_lexer": "ipython3",
   "version": "3.6.5"
  }
 },
 "nbformat": 4,
 "nbformat_minor": 2
}
