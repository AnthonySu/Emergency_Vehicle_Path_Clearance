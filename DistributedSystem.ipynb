{
 "cells": [
  {
   "cell_type": "code",
   "execution_count": 187,
   "metadata": {},
   "outputs": [],
   "source": [
    "import numpy as np"
   ]
  },
  {
   "cell_type": "code",
   "execution_count": 188,
   "metadata": {},
   "outputs": [],
   "source": [
    "# basic parameters:\n",
    "arrival_rate = 0.8\n",
    "background_speed = 12 # 25mph = 11.176 m/s\n",
    "cruising_speed = 0.25 * background_speed\n",
    "segment_length = 1000\n",
    "vehicle_length = 4.5 # a typical vehicle length is 4.5 meters\n",
    "pull_over_dist = 3 # The artifical pull over distance is 3 m\n",
    "\n",
    "\n",
    "# Generate possion arrival for left land and right lane as the inter-arrival time is following exponential distribution\n",
    "beta = 1 / arrival_rate\n",
    "left_interarr_times = np.random.exponential(scale = beta, size = 1000)\n",
    "right_interarr_times = np.random.exponential(scale = beta, size = 1000)\n",
    "\n",
    "# So the inter-vehicle distances could be calculated as time * background_speed\n",
    "left_interarr_dists = left_interarr_times * background_speed\n",
    "right_interarr_dists = right_interarr_times * background_speed\n",
    "\n",
    "# The physical stamp is the distance between of the fronts of two vehicle\n",
    "# To make sure that there is at least a vehicle, we need to filter those distance < 1.1 * vehicle_length and replace with 1.1 * vehicle_length\n",
    "left_interarr_dists_modified = np.clip(left_interarr_dists, 1.1 * vehicle_length, np.inf)\n",
    "right_interarr_dists_modified = np.clip(right_interarr_dists, 1.1 * vehicle_length, np.inf)\n",
    "\n",
    "# Get the coordinates from the intersection of the front of each vehicles, which is the cumulative of distances between vehicles:\n",
    "left_vehicle_coordinates = np.cumsum(left_interarr_dists_modified, dtype = float)\n",
    "left_vehicle_coordinates = left_vehicle_coordinates[left_vehicle_coordinates < segment_length]\n",
    "right_vehicle_coordinates = np.cumsum(right_interarr_dists_modified, dtype = float)\n",
    "right_vehicle_coordinates = right_vehicle_coordinates[right_vehicle_coordinates < segment_length]"
   ]
  },
  {
   "cell_type": "code",
   "execution_count": 189,
   "metadata": {},
   "outputs": [],
   "source": [
    "# required length for pull over slot:\n",
    "required_length = 2 * vehicle_length"
   ]
  },
  {
   "cell_type": "code",
   "execution_count": 190,
   "metadata": {},
   "outputs": [
    {
     "data": {
      "text/plain": [
       "array([ 17.28818613,  42.61618536,  50.91567539,  93.2622698 ,\n",
       "       105.27796735, 153.10271201, 207.18402114, 231.01080523,\n",
       "       245.67111759, 253.7242504 , 261.73671456, 314.41347323,\n",
       "       319.36347323, 324.31347323, 352.01033359, 385.79281244,\n",
       "       393.32687587, 398.27687587, 403.22687587, 439.2220146 ,\n",
       "       445.99580578, 456.73328596, 464.31238325, 472.35710356,\n",
       "       477.30710356, 482.25710356, 492.51699549, 497.46699549,\n",
       "       506.88421203, 511.83421203, 564.56211535, 613.10017169,\n",
       "       621.2254532 , 626.1754532 , 631.1254532 , 636.0754532 ,\n",
       "       641.0254532 , 675.31433676, 682.50859387, 687.45859387,\n",
       "       694.86613662, 709.27857797, 751.98103121, 771.83412336,\n",
       "       777.202149  , 786.60169072, 803.4151497 , 808.3651497 ,\n",
       "       813.3151497 , 826.77802571, 860.11031312, 874.70263431,\n",
       "       879.65263431, 886.03607605, 891.50026366, 896.45026366,\n",
       "       901.57456538, 926.9844789 , 950.84322735, 967.50790218,\n",
       "       995.4164654 ])"
      ]
     },
     "execution_count": 190,
     "metadata": {},
     "output_type": "execute_result"
    }
   ],
   "source": [
    "# Lets look again at the left vehicle coordinates of the vehicle on the left lane:\n",
    "left_vehicle_coordinates"
   ]
  },
  {
   "cell_type": "code",
   "execution_count": 191,
   "metadata": {},
   "outputs": [
    {
     "data": {
      "text/plain": [
       "(61,)"
      ]
     },
     "execution_count": 191,
     "metadata": {},
     "output_type": "execute_result"
    }
   ],
   "source": [
    "# And we can get the number of the vehicle in front of Emergency Vehicle of interest:\n",
    "left_vehicle_coordinates.shape"
   ]
  },
  {
   "cell_type": "code",
   "execution_count": 192,
   "metadata": {},
   "outputs": [
    {
     "data": {
      "text/plain": [
       "array([ 15.05355146,  20.00355146,  34.56377406,  39.51377406,\n",
       "        47.7477869 ,  52.6977869 ,  73.33684786,  78.28684786,\n",
       "        90.20665198,  95.15665198, 110.6692602 , 115.6192602 ,\n",
       "       123.89437131, 153.27613661, 158.22613661, 201.20375951,\n",
       "       210.68086435, 229.82180779, 234.77180779, 245.15101574,\n",
       "       250.98851355, 264.80674074, 278.89601377, 304.83018065,\n",
       "       315.65908292, 326.82375733, 335.5489024 , 348.46343075,\n",
       "       353.41343075, 358.36343075, 382.90082678, 399.81370712,\n",
       "       423.56924147, 429.7916383 , 439.54274097, 484.62170952,\n",
       "       504.01104946, 509.66547288, 527.08082481, 534.76166435,\n",
       "       544.41729028, 549.36729028, 554.48286628, 562.87919002,\n",
       "       584.27120673, 589.22120673, 594.17120673, 649.95489294,\n",
       "       654.90489294, 671.65662954, 676.60662954, 695.22401338,\n",
       "       707.28677008, 712.23677008, 737.83689141, 758.71137194,\n",
       "       773.84521122, 782.12584624, 805.29918376, 858.63674947,\n",
       "       863.58674947, 886.96212934, 904.83984961, 909.78984961,\n",
       "       914.73984961, 919.68984961, 924.63984961, 936.1471679 ,\n",
       "       955.15501838, 964.20694909])"
      ]
     },
     "execution_count": 192,
     "metadata": {},
     "output_type": "execute_result"
    }
   ],
   "source": [
    "# Lets look at the coordinates of the vehicles on the right lane:\n",
    "right_vehicle_coordinates"
   ]
  },
  {
   "cell_type": "code",
   "execution_count": 193,
   "metadata": {},
   "outputs": [
    {
     "data": {
      "text/plain": [
       "70"
      ]
     },
     "execution_count": 193,
     "metadata": {},
     "output_type": "execute_result"
    }
   ],
   "source": [
    "# The number of vehicles on the right lane is:\n",
    "len(right_vehicle_coordinates)"
   ]
  },
  {
   "cell_type": "code",
   "execution_count": 208,
   "metadata": {},
   "outputs": [],
   "source": [
    "# We then have to calculate the exact coordinates of those slots, starting from 0:\n",
    "def get_empty_slots(right_vehicle_coordinates):\n",
    "    empty_slots = []\n",
    "    current_position = 0\n",
    "    for i in range(len(right_vehicle_coordinates)):\n",
    "        head = current_position\n",
    "        tail = right_vehicle_coordinates[i]\n",
    "        empty_slots.append([head, tail])\n",
    "        current_position = tail + vehicle_length\n",
    "    if (current_position - vehicle_length) < segment_length :\n",
    "        empty_slots.append([current_position, segment_length])\n",
    "    return empty_slots"
   ]
  },
  {
   "cell_type": "code",
   "execution_count": 209,
   "metadata": {},
   "outputs": [
    {
     "data": {
      "text/plain": [
       "71"
      ]
     },
     "execution_count": 209,
     "metadata": {},
     "output_type": "execute_result"
    }
   ],
   "source": [
    "# And we could know that there should be number_vehicle + 1 slots for possible pulling over:\n",
    "len(get_empty_slots(right_vehicle_coordinates))"
   ]
  },
  {
   "cell_type": "code",
   "execution_count": 196,
   "metadata": {},
   "outputs": [],
   "source": [
    "# Pull over rules for distributed systems:\n",
    "# 1. a vehicle could only pull over to a spot that is physically ahead of him, which means the head of this slot\n",
    "# should be smaller than the front of the vehicle;\n",
    "# 2. the empty slot should at least be 2 * vehicle length long\n",
    "# 3. Since there is a pull over distance, the back of the vehicle - pull over distance should be smaller than \n",
    "# the tail of the slot\n",
    "def can_pull_over(vehicle_coordinate, slot):\n",
    "    head = slot[0]\n",
    "    tail = slot[1]\n",
    "    vehicle_back = vehicle_coordinate + vehicle_length\n",
    "    if (tail - head) < required_length:\n",
    "        return False\n",
    "    elif vehicle_coordinate - pull_over_dist < head:\n",
    "        return False\n",
    "    return True"
   ]
  },
  {
   "cell_type": "code",
   "execution_count": 197,
   "metadata": {},
   "outputs": [
    {
     "data": {
      "text/plain": [
       "17.28818613365445"
      ]
     },
     "execution_count": 197,
     "metadata": {},
     "output_type": "execute_result"
    }
   ],
   "source": [
    "# Then we can see which slots a vehicle can pull over into, if there is no available slots, then it will exit from the intersection\n",
    "# For example, lets take a look at the first vehicle:\n",
    "first_veh_coordinate = left_vehicle_coordinates[0]\n",
    "first_veh_coordinate"
   ]
  },
  {
   "cell_type": "code",
   "execution_count": 198,
   "metadata": {},
   "outputs": [
    {
     "name": "stdout",
     "output_type": "stream",
     "text": [
      "[0, 15.053551462985336]\n"
     ]
    }
   ],
   "source": [
    "for slot_element in empty_slots:\n",
    "    result = can_pull_over(first_veh_coordinate, slot_element)\n",
    "    if result:\n",
    "        print(slot_element)\n",
    "    else:\n",
    "        break"
   ]
  },
  {
   "cell_type": "code",
   "execution_count": 199,
   "metadata": {},
   "outputs": [],
   "source": [
    "# A special rule regarding the distributed system is that all vehicles will try to pull over into their nearest\n",
    "# slot. However, with respect to time, we might not know which vehicle would pull in first.\n",
    "# So, we need to calculate that and pick the smallest one to be timestamp of interest. Through the process, vehicles\n",
    "# to be cleared and empty slots are changing per timestamp of interest"
   ]
  },
  {
   "cell_type": "code",
   "execution_count": 200,
   "metadata": {},
   "outputs": [],
   "source": [
    "# First of all, we need to know which slot each vehicle is going to pull over into at timestamp 0:\n",
    "def slot_to_park_distributed(vehicle_coordinate, empty_slots):\n",
    "    # default is exiting at the intersection\n",
    "    res = 0\n",
    "    \n",
    "    for slot_element in empty_slots:\n",
    "        if can_pull_over(vehicle_coordinate, slot_element):\n",
    "            res = slot_element     \n",
    "    return res"
   ]
  },
  {
   "cell_type": "code",
   "execution_count": 201,
   "metadata": {},
   "outputs": [
    {
     "name": "stdout",
     "output_type": "stream",
     "text": [
      "17.28818613365445 [0, 15.053551462985336]\n",
      "42.61618535837399 [24.503551462985335, 34.563774057132974]\n",
      "50.91567539245367 [24.503551462985335, 34.563774057132974]\n",
      "93.26226980485953 [57.19778689744099, 73.33684785893567]\n",
      "105.27796735113738 [99.65665197873678, 110.66926020340097]\n",
      "153.10271201257504 [128.3943713116136, 153.27613660911774]\n",
      "207.1840211361698 [162.72613660911773, 201.20375950859483]\n",
      "231.01080523023185 [215.18086435361806, 229.82180779019868]\n",
      "245.67111758889314 [215.18086435361806, 229.82180779019868]\n",
      "253.7242503981516 [215.18086435361806, 229.82180779019868]\n",
      "261.7367145645494 [255.48851354849992, 264.8067407396845]\n",
      "314.41347323185437 [283.3960137673763, 304.8301806501367]\n",
      "319.36347323185436 [283.3960137673763, 304.8301806501367]\n",
      "324.31347323185435 [283.3960137673763, 304.8301806501367]\n",
      "352.0103335940871 [283.3960137673763, 304.8301806501367]\n",
      "385.7928124419832 [362.8634307453442, 382.9008267848511]\n",
      "393.3268758740754 [387.4008267848511, 399.8137071192003]\n",
      "398.2768758740754 [387.4008267848511, 399.8137071192003]\n",
      "403.2268758740754 [387.4008267848511, 399.8137071192003]\n",
      "439.22201459977776 [404.3137071192003, 423.5692414704706]\n",
      "445.9958057816053 [404.3137071192003, 423.5692414704706]\n",
      "456.733285964118 [444.04274096766346, 484.62170952291535]\n",
      "464.3123832477235 [444.04274096766346, 484.62170952291535]\n",
      "472.35710355641135 [444.04274096766346, 484.62170952291535]\n",
      "477.30710355641133 [444.04274096766346, 484.62170952291535]\n",
      "482.2571035564113 [444.04274096766346, 484.62170952291535]\n",
      "492.5169954927561 [489.12170952291535, 504.0110494635586]\n",
      "497.4669954927561 [489.12170952291535, 504.0110494635586]\n",
      "506.8842120340203 [489.12170952291535, 504.0110494635586]\n",
      "511.8342120340203 [489.12170952291535, 504.0110494635586]\n",
      "564.5621153548713 [514.1654728766534, 527.0808248125172]\n",
      "613.1001716949957 [598.671206725512, 649.9548929352986]\n",
      "621.225453195464 [598.671206725512, 649.9548929352986]\n",
      "626.175453195464 [598.671206725512, 649.9548929352986]\n",
      "631.125453195464 [598.671206725512, 649.9548929352986]\n",
      "636.0754531954641 [598.671206725512, 649.9548929352986]\n",
      "641.0254531954641 [598.671206725512, 649.9548929352986]\n",
      "675.3143367564484 [659.4048929352987, 671.6566295422066]\n",
      "682.5085938666559 [659.4048929352987, 671.6566295422066]\n",
      "687.458593866656 [681.1066295422066, 695.2240133835917]\n",
      "694.8661366190993 [681.1066295422066, 695.2240133835917]\n",
      "709.2785779722946 [681.1066295422066, 695.2240133835917]\n",
      "751.9810312091608 [742.3368914146022, 758.7113719354672]\n",
      "771.8341233589852 [763.2113719354672, 773.8452112173957]\n",
      "777.2021490029106 [763.2113719354672, 773.8452112173957]\n",
      "786.6016907210338 [763.2113719354672, 773.8452112173957]\n",
      "803.415149698306 [786.6258462381533, 805.2991837573261]\n",
      "808.365149698306 [786.6258462381533, 805.2991837573261]\n",
      "813.3151496983061 [809.7991837573261, 858.636749466638]\n",
      "826.7780257136903 [809.7991837573261, 858.636749466638]\n",
      "860.1103131179868 [809.7991837573261, 858.636749466638]\n",
      "874.7026343084325 [868.086749466638, 886.9621293406442]\n",
      "879.6526343084325 [868.086749466638, 886.9621293406442]\n",
      "886.0360760500039 [868.086749466638, 886.9621293406442]\n",
      "891.50026365632 [868.086749466638, 886.9621293406442]\n",
      "896.4502636563201 [891.4621293406442, 904.8398496119434]\n",
      "901.5745653796888 [891.4621293406442, 904.8398496119434]\n",
      "926.9844789036899 [891.4621293406442, 904.8398496119434]\n",
      "950.8432273503121 [940.6471679037434, 955.1550183836988]\n",
      "967.5079021822343 [940.6471679037434, 955.1550183836988]\n",
      "995.4164653991221 [968.7069490862209, 1000]\n"
     ]
    }
   ],
   "source": [
    "# Check if all satisfy the pull over slots:\n",
    "for vehicle_coordinate in left_vehicle_coordinates:\n",
    "    print(vehicle_coordinate, slot_to_park_distributed(vehicle_coordinate, empty_slots))"
   ]
  },
  {
   "cell_type": "code",
   "execution_count": 202,
   "metadata": {},
   "outputs": [],
   "source": [
    "# Compute the smallest pull over time at certain timestamp:\n",
    "def next_timestamp(vehicle_coordinates, empty_slots):\n",
    "    pull_over_times = []\n",
    "    for vehicle in vehicle_coordinates:\n",
    "        \n",
    "        vehicle_back = vehicle + vehicle_length\n",
    "        tail = slot_to_park_distributed(vehicle, empty_slots)\n",
    "        if tail != 0:\n",
    "            tail = tail[1]\n",
    "            \n",
    "        \n",
    "        if tail <= vehicle_back - pull_over_dist:\n",
    "            pull_over_time = (vehicle_back - tail) / cruising_speed\n",
    "        else:\n",
    "            pull_over_time = pull_over_dist / cruising_speed\n",
    "        pull_over_times.append(pull_over_time)\n",
    "    \n",
    "    min_timestamp = np.min(pull_over_times)\n",
    "    min_positions = list([i for i, x in enumerate(pull_over_times) if x == min_timestamp])\n",
    "    return min_timestamp, min_positions"
   ]
  },
  {
   "cell_type": "code",
   "execution_count": 240,
   "metadata": {},
   "outputs": [],
   "source": [
    "# Update the available slots\n",
    "def update(vehicle_coordinates, min_positions, timestamp, right_vehicle_coordinates):\n",
    "    # Get the coordinates of the vehicle to pull over\n",
    "    vehicles_to_pull_over = vehicle_coordinates[min_positions]\n",
    "    # picture the new coordinates of these vehicles including the old ones by timestamp\n",
    "    new_coordinates = vehicles_to_pull_over - timestamp * cruising_speed\n",
    "    # print(new_coordinates)\n",
    "    # print(right_vehicle_coordinates)\n",
    "    right_vehicle_coordinates = np.append(right_vehicle_coordinates, new_coordinates)\n",
    "    right_vehicle_coordinates = np.sort(right_vehicle_coordinates)\n",
    "    right_vehicle_coordinates = np.clip(right_vehicle_coordinates, 0, np.inf)\n",
    "    \n",
    "    # Compute the new available empty slots\n",
    "    new_empty_slots = get_empty_slots(right_vehicle_coordinates)\n",
    "    # update the vehicle coordinates: decrement the position and get rid of the pulled over:\n",
    "    new_vehicle_coordinates = vehicle_coordinates - timestamp * cruising_speed\n",
    "    new_vehicle_coordinates = np.delete(new_vehicle_coordinates, min_positions)\n",
    "    new_vehicle_coordinates = np.clip(new_vehicle_coordinates, 0, np.inf)\n",
    "    \n",
    "    return new_vehicle_coordinates, new_empty_slots, right_vehicle_coordinates"
   ]
  },
  {
   "cell_type": "code",
   "execution_count": 241,
   "metadata": {},
   "outputs": [],
   "source": [
    "def timing_process(left_vehicle_coordinates, right_vehicle_coordinates):\n",
    "    time_counter = 0\n",
    "    while left_vehicle_coordinates != []:\n",
    "        print(len(left_vehicle_coordinates))\n",
    "        # Compute the empty slots on the right lane:\n",
    "        current_empty_slots = get_empty_slots(right_vehicle_coordinates)\n",
    "        \n",
    "        # Calculate the timestamp of the next event:\n",
    "        min_timestamp, min_positions = next_timestamp(left_vehicle_coordinates, current_empty_slots)\n",
    "        \n",
    "        time_counter += min_timestamp\n",
    "        \n",
    "        # update:\n",
    "        left_vehicle_coordinates, empty_slots, right_vehicle_coordinates = update(left_vehicle_coordinates, min_positions, min_timestamp, right_vehicle_coordinates)\n",
    "        \n",
    "    return time_counter"
   ]
  },
  {
   "cell_type": "code",
   "execution_count": 242,
   "metadata": {},
   "outputs": [],
   "source": [
    "test1 = left_vehicle_coordinates\n",
    "test2 = right_vehicle_coordinates"
   ]
  },
  {
   "cell_type": "code",
   "execution_count": 243,
   "metadata": {},
   "outputs": [
    {
     "name": "stdout",
     "output_type": "stream",
     "text": [
      "61\n",
      "32\n",
      "29\n",
      "28\n",
      "26\n",
      "25\n",
      "24\n",
      "23\n",
      "20\n",
      "19\n",
      "18\n",
      "17\n",
      "14\n",
      "13\n",
      "12\n",
      "11\n",
      "10\n",
      "9\n",
      "8\n",
      "7\n",
      "6\n",
      "5\n",
      "4\n",
      "3\n",
      "2\n"
     ]
    },
    {
     "name": "stderr",
     "output_type": "stream",
     "text": [
      "/Users/suhaoran/anaconda3/lib/python3.6/site-packages/ipykernel_launcher.py:3: DeprecationWarning: elementwise != comparison failed; this will raise an error in the future.\n",
      "  This is separate from the ipykernel package so we can avoid doing imports until\n",
      "/Users/suhaoran/anaconda3/lib/python3.6/site-packages/ipykernel_launcher.py:3: DeprecationWarning: The truth value of an empty array is ambiguous. Returning False, but in future this will result in an error. Use `array.size > 0` to check that an array is not empty.\n",
      "  This is separate from the ipykernel package so we can avoid doing imports until\n"
     ]
    },
    {
     "data": {
      "text/plain": [
       "109.0258070334489"
      ]
     },
     "execution_count": 243,
     "metadata": {},
     "output_type": "execute_result"
    }
   ],
   "source": [
    "timing_process(test1, test2)"
   ]
  },
  {
   "cell_type": "code",
   "execution_count": null,
   "metadata": {},
   "outputs": [],
   "source": []
  },
  {
   "cell_type": "code",
   "execution_count": null,
   "metadata": {},
   "outputs": [],
   "source": []
  }
 ],
 "metadata": {
  "kernelspec": {
   "display_name": "Python 3",
   "language": "python",
   "name": "python3"
  },
  "language_info": {
   "codemirror_mode": {
    "name": "ipython",
    "version": 3
   },
   "file_extension": ".py",
   "mimetype": "text/x-python",
   "name": "python",
   "nbconvert_exporter": "python",
   "pygments_lexer": "ipython3",
   "version": "3.6.5"
  }
 },
 "nbformat": 4,
 "nbformat_minor": 2
}
